{
 "cells": [
  {
   "cell_type": "markdown",
   "metadata": {},
   "source": [
    "# LIST AND LIST RELATED EXAMPLES"
   ]
  },
  {
   "cell_type": "code",
   "execution_count": 61,
   "metadata": {},
   "outputs": [
    {
     "name": "stdout",
     "output_type": "stream",
     "text": [
      "5\n"
     ]
    }
   ],
   "source": [
    "li=[1,2,3,4,5]\n",
    "print(len(li))"
   ]
  },
  {
   "cell_type": "code",
   "execution_count": 62,
   "metadata": {},
   "outputs": [
    {
     "name": "stdout",
     "output_type": "stream",
     "text": [
      "[1, 2, 3, 4, 5]\n"
     ]
    }
   ],
   "source": [
    "li=[1,2,3,4,5]\n",
    "print(li)"
   ]
  },
  {
   "cell_type": "code",
   "execution_count": 63,
   "metadata": {},
   "outputs": [
    {
     "name": "stdout",
     "output_type": "stream",
     "text": [
      "[1, 2, 3, 33, 5]\n"
     ]
    }
   ],
   "source": [
    "li[3]=33\n",
    "print(li)"
   ]
  },
  {
   "cell_type": "code",
   "execution_count": 64,
   "metadata": {},
   "outputs": [
    {
     "name": "stdout",
     "output_type": "stream",
     "text": [
      "[1, 3, 33, 5]\n",
      "4\n"
     ]
    }
   ],
   "source": [
    "del li[1]\n",
    "print(li)\n",
    "print(len(li))"
   ]
  },
  {
   "cell_type": "code",
   "execution_count": 65,
   "metadata": {},
   "outputs": [
    {
     "name": "stdout",
     "output_type": "stream",
     "text": [
      "[2, 3, 4]\n"
     ]
    }
   ],
   "source": [
    "li=[1,2,3,4,5]\n",
    "print(li[1:4])"
   ]
  },
  {
   "cell_type": "code",
   "execution_count": 66,
   "metadata": {},
   "outputs": [
    {
     "name": "stdout",
     "output_type": "stream",
     "text": [
      "[2, 3]\n"
     ]
    }
   ],
   "source": [
    "li=[1,2,3,4,5]\n",
    "print(li[1:3])"
   ]
  },
  {
   "cell_type": "code",
   "execution_count": 67,
   "metadata": {},
   "outputs": [
    {
     "name": "stdout",
     "output_type": "stream",
     "text": [
      "5\n"
     ]
    }
   ],
   "source": [
    "\n",
    "print(li[-1])"
   ]
  },
  {
   "cell_type": "code",
   "execution_count": 68,
   "metadata": {},
   "outputs": [
    {
     "name": "stdout",
     "output_type": "stream",
     "text": [
      "4\n"
     ]
    }
   ],
   "source": [
    "print(li[-2])"
   ]
  },
  {
   "cell_type": "code",
   "execution_count": 69,
   "metadata": {},
   "outputs": [
    {
     "name": "stdout",
     "output_type": "stream",
     "text": [
      "15\n",
      "5\n",
      "1\n",
      "3\n"
     ]
    }
   ],
   "source": [
    "### METHODS OF LIST\n",
    "li=[1,2,3,4,5]\n",
    "print(sum(li))\n",
    "print(max(li))\n",
    "print(min(li))\n",
    "print(sum(li)//len(li))"
   ]
  },
  {
   "cell_type": "code",
   "execution_count": 70,
   "metadata": {},
   "outputs": [],
   "source": [
    "# FIND THE O/P OF ALTERNATE NUMBER AVERAGE\n"
   ]
  },
  {
   "cell_type": "code",
   "execution_count": 71,
   "metadata": {},
   "outputs": [
    {
     "name": "stdout",
     "output_type": "stream",
     "text": [
      "[1, 2, 3, 4, 5, 100]\n"
     ]
    }
   ],
   "source": [
    "# INSERT AN ITEM AT THE END OF LIST\n",
    "li.append(100)\n",
    "print(li)"
   ]
  },
  {
   "cell_type": "code",
   "execution_count": 72,
   "metadata": {},
   "outputs": [
    {
     "data": {
      "text/plain": [
       "[1, 2, 3, 70, 4, 5, 100]"
      ]
     },
     "execution_count": 72,
     "metadata": {},
     "output_type": "execute_result"
    }
   ],
   "source": [
    "# INSERT AN ITEM IN THE MIDDLE OF LIST\n",
    "li.insert(3,70)\n",
    "li"
   ]
  },
  {
   "cell_type": "code",
   "execution_count": 73,
   "metadata": {},
   "outputs": [
    {
     "data": {
      "text/plain": [
       "1"
      ]
     },
     "execution_count": 73,
     "metadata": {},
     "output_type": "execute_result"
    }
   ],
   "source": [
    "# COUNTS HOW MANY TIMES THE ELEMENT IS REPEATED\n",
    "li.count(70)"
   ]
  },
  {
   "cell_type": "code",
   "execution_count": 74,
   "metadata": {},
   "outputs": [
    {
     "data": {
      "text/plain": [
       "3"
      ]
     },
     "execution_count": 74,
     "metadata": {},
     "output_type": "execute_result"
    }
   ],
   "source": [
    "# INDEX GIVES THE INDEX OF SPECIFIED VALUE\n",
    "li.index(70)"
   ]
  },
  {
   "cell_type": "code",
   "execution_count": 76,
   "metadata": {},
   "outputs": [
    {
     "name": "stdout",
     "output_type": "stream",
     "text": [
      "[1, 2, 3, 4, 5, 70, 100]\n"
     ]
    }
   ],
   "source": [
    "# SORT-IT SORTS THE LIST\n",
    "li.sort()\n",
    "print(li)"
   ]
  },
  {
   "cell_type": "code",
   "execution_count": 77,
   "metadata": {},
   "outputs": [
    {
     "name": "stdout",
     "output_type": "stream",
     "text": [
      "[1, 2, 3, 4, 5, 70]\n"
     ]
    }
   ],
   "source": [
    "#POP-IT REMOVES THE ITEM OF LAST INDEX\n",
    "li.pop()\n",
    "print(li)"
   ]
  },
  {
   "cell_type": "code",
   "execution_count": 78,
   "metadata": {},
   "outputs": [
    {
     "data": {
      "text/plain": [
       "[1, 2, 4, 5, 70]"
      ]
     },
     "execution_count": 78,
     "metadata": {},
     "output_type": "execute_result"
    }
   ],
   "source": [
    "li.pop(2)\n",
    "li"
   ]
  },
  {
   "cell_type": "code",
   "execution_count": 79,
   "metadata": {},
   "outputs": [
    {
     "name": "stdout",
     "output_type": "stream",
     "text": [
      "[70, 5, 4, 2, 1]\n"
     ]
    }
   ],
   "source": [
    "a=li[::-1]\n",
    "print(a)"
   ]
  },
  {
   "cell_type": "code",
   "execution_count": 80,
   "metadata": {},
   "outputs": [
    {
     "data": {
      "text/plain": [
       "5"
      ]
     },
     "execution_count": 80,
     "metadata": {},
     "output_type": "execute_result"
    }
   ],
   "source": [
    "# DEFINE A FUNCTION TO FIND OUT SECOND LARGEST NUMBER \n",
    "def secondLarge(li):\n",
    "    li.sort()\n",
    "    return li[-2]\n",
    "li=[1,2,3,34,5]\n",
    "secondLarge(li)\n"
   ]
  },
  {
   "cell_type": "code",
   "execution_count": 81,
   "metadata": {},
   "outputs": [
    {
     "data": {
      "text/plain": [
       "3"
      ]
     },
     "execution_count": 81,
     "metadata": {},
     "output_type": "execute_result"
    }
   ],
   "source": [
    "def genericLarge(li,n):\n",
    "    li.sort()\n",
    "    return li[-n]\n",
    "genericLarge(li,3)"
   ]
  },
  {
   "cell_type": "code",
   "execution_count": 82,
   "metadata": {},
   "outputs": [
    {
     "data": {
      "text/plain": [
       "3"
      ]
     },
     "execution_count": 82,
     "metadata": {},
     "output_type": "execute_result"
    }
   ],
   "source": [
    "def genericLeast(li,n):\n",
    "    li.sort()\n",
    "    return li[n]\n",
    "genericLeast(li,2)"
   ]
  },
  {
   "cell_type": "markdown",
   "metadata": {},
   "source": [
    "# NUMBER TO LIST CONVERSION \n",
    "- 12345678 TO [1,2,3,4,5,6,7,8]"
   ]
  },
  {
   "cell_type": "code",
   "execution_count": 85,
   "metadata": {},
   "outputs": [
    {
     "data": {
      "text/plain": [
       "[1, 2, 3, 4, 5, 6, 7, 8]"
      ]
     },
     "execution_count": 85,
     "metadata": {},
     "output_type": "execute_result"
    }
   ],
   "source": [
    "def numberToList(n):\n",
    "    li=[]\n",
    "    while n!=0:\n",
    "        r=n%10\n",
    "        li.append(r)\n",
    "        n=n//10\n",
    "    li.reverse()\n",
    "    return li\n",
    "numberToList(12345678)"
   ]
  },
  {
   "cell_type": "markdown",
   "metadata": {},
   "source": [
    "# DATA STRUCTURES - TUPLES\n",
    "- It is similar to list objects\n",
    "- list will be enclosed in square bracketsand tuples will be enclosed in paranthesis\n",
    "- list can be incresed/decreased and tuple is fixed\n",
    "- it means list is mutable and tuple is immutable\n",
    "- list will be used for read and write where as tuple is used only for reading"
   ]
  },
  {
   "cell_type": "code",
   "execution_count": 86,
   "metadata": {},
   "outputs": [
    {
     "data": {
      "text/plain": [
       "(1, 1, 5, 9, 2)"
      ]
     },
     "execution_count": 86,
     "metadata": {},
     "output_type": "execute_result"
    }
   ],
   "source": [
    "t1=(1,1,5,9,2)\n",
    "t1"
   ]
  },
  {
   "cell_type": "code",
   "execution_count": 87,
   "metadata": {},
   "outputs": [
    {
     "data": {
      "text/plain": [
       "(1, 1, 5, 9)"
      ]
     },
     "execution_count": 87,
     "metadata": {},
     "output_type": "execute_result"
    }
   ],
   "source": [
    "t1[0:4]"
   ]
  },
  {
   "cell_type": "code",
   "execution_count": 88,
   "metadata": {},
   "outputs": [
    {
     "data": {
      "text/plain": [
       "5"
      ]
     },
     "execution_count": 88,
     "metadata": {},
     "output_type": "execute_result"
    }
   ],
   "source": [
    "t1[2]"
   ]
  },
  {
   "cell_type": "markdown",
   "metadata": {},
   "source": [
    "# DATA STRUCTURE-DICTIONARIES\n",
    "- this data structure works on set of keys and values\n",
    "- there will be unique key set will be defined\n",
    "- every key is seperated from its value by colon(:)\n",
    "- every key and value pair is seperated by comma(,)\n",
    "- it is defined with curly braces"
   ]
  },
  {
   "cell_type": "code",
   "execution_count": 89,
   "metadata": {},
   "outputs": [
    {
     "name": "stdout",
     "output_type": "stream",
     "text": [
      "{'name': 'yashasvi', 'emailid': 'kyashasvi56@gmail.com'}\n"
     ]
    }
   ],
   "source": [
    "d1={\"name\":\"yashasvi\",\"emailid\":\"kyashasvi56@gmail.com\"}\n",
    "print(d1)"
   ]
  },
  {
   "cell_type": "code",
   "execution_count": 90,
   "metadata": {},
   "outputs": [
    {
     "name": "stdout",
     "output_type": "stream",
     "text": [
      "kyashasvi56@gmail.com\n"
     ]
    }
   ],
   "source": [
    "print(d1['emailid'])"
   ]
  },
  {
   "cell_type": "code",
   "execution_count": 95,
   "metadata": {},
   "outputs": [
    {
     "name": "stdout",
     "output_type": "stream",
     "text": [
      "{'name': 'rishitha', 'emailid': 'kyashasvi56@gmail.com'}\n"
     ]
    }
   ],
   "source": [
    "d1['name']='rishitha'\n",
    "print(d1)"
   ]
  },
  {
   "cell_type": "code",
   "execution_count": 96,
   "metadata": {},
   "outputs": [
    {
     "name": "stdout",
     "output_type": "stream",
     "text": [
      "{'emailid': 'kyashasvi56@gmail.com'}\n"
     ]
    }
   ],
   "source": [
    "del d1['name']\n",
    "print(d1)"
   ]
  },
  {
   "cell_type": "markdown",
   "metadata": {},
   "source": [
    "### CONTACT APPLICATION\n",
    "- USED CONCEPTS:dict,tuple,list\n",
    "### modules of contact application\n",
    "- add contacts\n",
    "- search contacts\n",
    "- import the new contacts\n",
    "- update the contacts\n",
    "- delete the contact"
   ]
  },
  {
   "cell_type": "code",
   "execution_count": 99,
   "metadata": {},
   "outputs": [
    {
     "name": "stdout",
     "output_type": "stream",
     "text": [
      "contact added\n",
      "contact added\n",
      "contact is not added\n"
     ]
    }
   ],
   "source": [
    "contacts={} # empty dict object\n",
    "# define the function for add contacts\n",
    "def addContacts(name,phone):\n",
    "    if name not in contacts:\n",
    "        contacts[name]=phone\n",
    "        print(\"contact added\")\n",
    "    else :\n",
    "        print(\"contact is not added\")\n",
    "    return\n",
    "addContacts('anil',12356566) # contact added\n",
    "addContacts('ajay',97644567) # contact added\n",
    "addContacts('anil',12356566) # contact is not added"
   ]
  },
  {
   "cell_type": "code",
   "execution_count": 100,
   "metadata": {},
   "outputs": [
    {
     "data": {
      "text/plain": [
       "{'anil': 12356566, 'ajay': 97644567}"
      ]
     },
     "execution_count": 100,
     "metadata": {},
     "output_type": "execute_result"
    }
   ],
   "source": [
    "contacts"
   ]
  },
  {
   "cell_type": "code",
   "execution_count": 101,
   "metadata": {},
   "outputs": [
    {
     "name": "stdout",
     "output_type": "stream",
     "text": [
      "anil : 12356566\n",
      "ajay : 97644567\n",
      "contact is not present\n"
     ]
    }
   ],
   "source": [
    "# define function for search contact\n",
    "def searchContact(name):\n",
    "    if name in contacts:\n",
    "        print(name , \":\" , contacts[name])\n",
    "    else:\n",
    "        print(\"contact is not present\")\n",
    "    return\n",
    "searchContact('anil')\n",
    "searchContact('ajay')\n",
    "searchContact('harsha')\n",
    "    "
   ]
  },
  {
   "cell_type": "code",
   "execution_count": 102,
   "metadata": {},
   "outputs": [
    {
     "name": "stdout",
     "output_type": "stream",
     "text": [
      "new contacts are added\n"
     ]
    }
   ],
   "source": [
    "# DEFINE THE FUNCTION FOR IMPORT THE CONTACTS\n",
    "def importContacts(newcontacts):\n",
    "    contacts.update(newcontacts)\n",
    "    print('new contacts are added')\n",
    "    return\n",
    "newContacts={\"harsha\":587760876,\"dinesh\":556786876}\n",
    "importContacts(newContacts)"
   ]
  },
  {
   "cell_type": "code",
   "execution_count": 103,
   "metadata": {},
   "outputs": [
    {
     "data": {
      "text/plain": [
       "{'anil': 12356566, 'ajay': 97644567, 'harsha': 587760876, 'dinesh': 556786876}"
      ]
     },
     "execution_count": 103,
     "metadata": {},
     "output_type": "execute_result"
    }
   ],
   "source": [
    "contacts"
   ]
  },
  {
   "cell_type": "code",
   "execution_count": 104,
   "metadata": {},
   "outputs": [
    {
     "name": "stdout",
     "output_type": "stream",
     "text": [
      "contact update is successful\n",
      "please add a new contact details\n"
     ]
    }
   ],
   "source": [
    "# DEFINE THE FUNCTION FOR UPDATE DETAILS\n",
    "def updateDetails(name,phone):\n",
    "    if name in contacts:\n",
    "        contacts[name]=phone\n",
    "        print('contact update is successful')\n",
    "    else:\n",
    "        print(\"please add a new contact details\")\n",
    "    return\n",
    "updateDetails('anil',476575)\n",
    "updateDetails(\"neeraj\",6887978)"
   ]
  },
  {
   "cell_type": "code",
   "execution_count": 105,
   "metadata": {},
   "outputs": [
    {
     "data": {
      "text/plain": [
       "{'anil': 476575, 'ajay': 97644567, 'harsha': 587760876, 'dinesh': 556786876}"
      ]
     },
     "execution_count": 105,
     "metadata": {},
     "output_type": "execute_result"
    }
   ],
   "source": [
    "contacts"
   ]
  },
  {
   "cell_type": "code",
   "execution_count": 107,
   "metadata": {},
   "outputs": [
    {
     "name": "stdout",
     "output_type": "stream",
     "text": [
      "contact deleted\n",
      "contact not found\n"
     ]
    }
   ],
   "source": [
    "# DEFINE THE FUNCTION TO DELETE THE CONTACTS\n",
    "def deleteContact(name,phone):\n",
    "    if name in contacts:\n",
    "        del contacts[name]\n",
    "        print('contact deleted')\n",
    "    else:\n",
    "        print(\"contact not found\")\n",
    "    return\n",
    "deleteContact('harsha',587760876)\n",
    "deleteContact(\"fyfufui\",57867696)"
   ]
  },
  {
   "cell_type": "markdown",
   "metadata": {},
   "source": [
    "# STRING TO LIST CONVERSION\n",
    "- '1 2 3 4 5 6' - [1,2,3,4,5,6]"
   ]
  },
  {
   "cell_type": "code",
   "execution_count": 108,
   "metadata": {},
   "outputs": [
    {
     "name": "stdout",
     "output_type": "stream",
     "text": [
      "enter the numbers123456\n",
      "<class 'str'>\n",
      "123456\n"
     ]
    }
   ],
   "source": [
    "a=input('enter the numbers')\n",
    "print(type(a))\n",
    "print(a)"
   ]
  },
  {
   "cell_type": "code",
   "execution_count": 109,
   "metadata": {},
   "outputs": [
    {
     "name": "stdout",
     "output_type": "stream",
     "text": [
      "<class 'str'>\n",
      "rishitha\n"
     ]
    }
   ],
   "source": [
    "a='rishitha'\n",
    "print(type(a))\n",
    "print(a)"
   ]
  },
  {
   "cell_type": "code",
   "execution_count": 110,
   "metadata": {},
   "outputs": [
    {
     "name": "stdout",
     "output_type": "stream",
     "text": [
      "['Application', 'test', 'working']\n"
     ]
    }
   ],
   "source": [
    "s=\"Application test working\"\n",
    "li=s.split()\n",
    "print(li)"
   ]
  },
  {
   "cell_type": "code",
   "execution_count": 111,
   "metadata": {},
   "outputs": [
    {
     "name": "stdout",
     "output_type": "stream",
     "text": [
      "['git', 'm hyder', 'b', 'd python progr', 'm']\n"
     ]
    }
   ],
   "source": [
    "s=\"gitam hyderabad python program\"\n",
    "li=s.split('a')\n",
    "print(li)"
   ]
  },
  {
   "cell_type": "code",
   "execution_count": 115,
   "metadata": {},
   "outputs": [
    {
     "name": "stdout",
     "output_type": "stream",
     "text": [
      "['gitam hy', 'eraba', ' python program']\n"
     ]
    }
   ],
   "source": [
    "s=\"gitam hyderabad python program\"\n",
    "li=s.split('d')\n",
    "print(li)"
   ]
  },
  {
   "cell_type": "code",
   "execution_count": 120,
   "metadata": {},
   "outputs": [
    {
     "data": {
      "text/plain": [
       "[1, 2, 3, 4, 5, 6]"
      ]
     },
     "execution_count": 120,
     "metadata": {},
     "output_type": "execute_result"
    }
   ],
   "source": [
    "# define function to convert the string to list\n",
    "def stringToList(s):\n",
    "    li=s.split() # divide the string by white space #['1' '2' '3']\n",
    "    numberList=[]\n",
    "    for i in li:\n",
    "        numberList.append(int(i))\n",
    "    return numberList\n",
    "stringToList('1 2 3 4 5 6')"
   ]
  },
  {
   "cell_type": "code",
   "execution_count": null,
   "metadata": {},
   "outputs": [],
   "source": []
  }
 ],
 "metadata": {
  "kernelspec": {
   "display_name": "Python 3",
   "language": "python",
   "name": "python3"
  },
  "language_info": {
   "codemirror_mode": {
    "name": "ipython",
    "version": 3
   },
   "file_extension": ".py",
   "mimetype": "text/x-python",
   "name": "python",
   "nbconvert_exporter": "python",
   "pygments_lexer": "ipython3",
   "version": "3.7.3"
  }
 },
 "nbformat": 4,
 "nbformat_minor": 2
}

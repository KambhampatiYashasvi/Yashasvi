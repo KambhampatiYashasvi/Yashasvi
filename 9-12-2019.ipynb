{
 "cells": [
  {
   "cell_type": "markdown",
   "metadata": {},
   "source": [
    "### READ TWO LIMITS AS I/P (A1,A2) AND PRINT O/P AS COUNT OF EVEN PALINDROMES"
   ]
  },
  {
   "cell_type": "code",
   "execution_count": null,
   "metadata": {},
   "outputs": [],
   "source": [
    "#include<stdio.h>\n",
    "int isPalindrome(int n)\n",
    "{\n",
    "\tint rev=0,buffer=n;\n",
    "\twhile (n!=0)\n",
    "\t{\n",
    "\t\trev=rev*10+(n%10);\n",
    "\t\tn=n/10;\n",
    "\t}\n",
    "\tif(buffer==rev)\n",
    "\t{\n",
    "\treturn 1;\n",
    "\t}\n",
    "\telse{\n",
    "\t\treturn 0;\n",
    "\t}\n",
    "\t\n",
    "}\n",
    "int main()\n",
    "{\n",
    "\tint i,a1,a2,res,pCnt=0;\n",
    "\tscanf(\"%d%d\",&a1,&a2);\n",
    "\tfor(i=a1;i<=a2;i++)\n",
    "\t{\n",
    "\t\tif(i%2==0){\n",
    "\t\t\tres=isPalindrome(i);\n",
    "\t\t\tif(res==1)\n",
    "\t\t\t{\n",
    "\t\t\t\tpCnt++;\n",
    "\t\t\t}\n",
    "\t\t}\n",
    "\t}\n",
    "\tprintf(\"%d\",pCnt);\n",
    "\treturn 0;\n",
    "}"
   ]
  },
  {
   "cell_type": "markdown",
   "metadata": {},
   "source": [
    "### READ THE I/P AS NO AND PRINT THE O/P AS YES/NO.\n",
    "- TEST CASES:-\n",
    "- 145=1!+4!+5!=YES\n",
    "- 123=1!+2!+3!=NO"
   ]
  },
  {
   "cell_type": "code",
   "execution_count": null,
   "metadata": {},
   "outputs": [],
   "source": [
    "#include<stdio.h>\n",
    "int factorial(int x)\n",
    "{\n",
    "\tint i,fact=1;\n",
    "\tfor(i=x;i>0;i--)\n",
    "\t{\n",
    "\t\tfact*=i;\n",
    "\t}\n",
    "\treturn fact;\n",
    "}\n",
    "int main()\n",
    "{\n",
    "\tint n,r,buffer,s=0;\n",
    "\tscanf(\"%d\",&n);\n",
    "\tbuffer=n;\n",
    "\twhile(n!=0)\n",
    "\t{\n",
    "\t\tr=n%10;\n",
    "\t\ts=s+factorial(r);\n",
    "\t\tn=n/10;\n",
    "\t}\n",
    "\tif(s==buffer)\n",
    "\t{\n",
    "\t\tprintf(\"yes\");\n",
    "\t}\n",
    "\telse\n",
    "\t{\n",
    "\t\tprintf(\"no\");\n",
    "\t}\n",
    "\treturn 0;\n",
    "}"
   ]
  },
  {
   "cell_type": "markdown",
   "metadata": {},
   "source": [
    "### READ THE TWO LIMITS AS I/P AND PRINT COUNT OF PERFECT NO IN THE LIST\n",
    "- EX=1-10=6\n",
    "- FACTORS=1,2,3,6\n",
    "- FOR PERFECT NO=1+2+3=6"
   ]
  },
  {
   "cell_type": "code",
   "execution_count": null,
   "metadata": {},
   "outputs": [],
   "source": []
  },
  {
   "cell_type": "markdown",
   "metadata": {},
   "source": [
    "### READ THE I/P ASND PRINT O/P AS SUM OF EACH DIGITS TO POWER OF DIGIT COUNT\n",
    "- TEST CASES=\n",
    "- 121=(1^3+2^3+1^3)"
   ]
  },
  {
   "cell_type": "code",
   "execution_count": null,
   "metadata": {},
   "outputs": [],
   "source": [
    "#include<stdio.h>\n",
    "#include<math.h>\n",
    "int digitCount(int n)\n",
    "{\n",
    "\tint cnt=0;\n",
    "\twhile(n!=0)\n",
    "\t{\n",
    "\t\tcnt++;\n",
    "\t\tn/=10;\n",
    "\t}\n",
    "\treturn cnt;\n",
    "}\n",
    "\n",
    "int main()\n",
    "{\n",
    "\tint cnt,x,sum=0,r,t;\n",
    "\tscanf(\"%d\",&x);\n",
    "\tcnt=digitCount(x);\n",
    "\twhile(x!=0)\n",
    "\t{\n",
    "\t\tr=x%10;\n",
    "\t\tt=pow(r,cnt);\n",
    "\t\tsum=sum+t;\n",
    "\t\tx=x/10;\n",
    "\t} \n",
    "\tprintf(\"%d\",sum);                  \n",
    "\t \n",
    "}"
   ]
  },
  {
   "cell_type": "markdown",
   "metadata": {},
   "source": [
    "### READ THE I/P AS 2 NO AND PRINT THE SERIES OF PRIME NUMBERS B/W 2 LIMITS"
   ]
  },
  {
   "cell_type": "code",
   "execution_count": null,
   "metadata": {},
   "outputs": [],
   "source": [
    "#include<stdio.h>\n",
    "int primeNumber(int n)\n",
    "{\n",
    "\tint x,flag=0;\n",
    "\tfor(x=2;x<=n/2;x++)\n",
    "\t{\n",
    "\t\tif(n%x==0)\n",
    "\t\t{\n",
    "\t\t\tflag=1;\n",
    "\t\t\tbreak;\n",
    "\t\t}\n",
    "\t}\n",
    "\tif(flag==0)\n",
    "\t{\n",
    "\t\treturn 1;\n",
    "\t}\n",
    "\telse\n",
    "\t{\n",
    "\t\treturn 0;\n",
    "\t}\n",
    "}\n",
    "int main()\n",
    "{\n",
    "\tint i,a1,a2,res;\n",
    "\tscanf(\"%d%d\",&a1,&a2);\n",
    "\tfor(i=a1;i<=a2;i++)\n",
    "\t{\n",
    "\t\tres=primeNumber(i);\n",
    "\t\tif(res==1)\n",
    "\t\t{\n",
    "\t\t\tprintf(\"%d\",i);\n",
    "\t\t}\n",
    "\t}\n",
    "\treturn 0;\n",
    "\t\n",
    "}"
   ]
  },
  {
   "cell_type": "code",
   "execution_count": null,
   "metadata": {},
   "outputs": [],
   "source": []
  },
  {
   "cell_type": "code",
   "execution_count": null,
   "metadata": {},
   "outputs": [],
   "source": []
  },
  {
   "cell_type": "code",
   "execution_count": null,
   "metadata": {},
   "outputs": [],
   "source": []
  },
  {
   "cell_type": "code",
   "execution_count": null,
   "metadata": {},
   "outputs": [],
   "source": []
  }
 ],
 "metadata": {
  "kernelspec": {
   "display_name": "Python 3",
   "language": "python",
   "name": "python3"
  },
  "language_info": {
   "codemirror_mode": {
    "name": "ipython",
    "version": 3
   },
   "file_extension": ".py",
   "mimetype": "text/x-python",
   "name": "python",
   "nbconvert_exporter": "python",
   "pygments_lexer": "ipython3",
   "version": "3.7.3"
  }
 },
 "nbformat": 4,
 "nbformat_minor": 2
}

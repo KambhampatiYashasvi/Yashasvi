{
 "cells": [
  {
   "cell_type": "markdown",
   "metadata": {},
   "source": [
    "#### READ THE I/P AS 2 NO'S& PRINT O/P AS SQUARE OF SECOND NUMBER IF FIRST IS GREATER"
   ]
  },
  {
   "cell_type": "code",
   "execution_count": null,
   "metadata": {},
   "outputs": [],
   "source": [
    "# include<stdio.h>\n",
    "int main()\n",
    "{\n",
    "int x,y;\n",
    "printf(\"enter the first value\");\n",
    "scanf(\"%d\",&x);\n",
    "printf(\"enter the second value\");\n",
    "scanf(\"%d\",&y);\n",
    "if (x>y)\n",
    "{\n",
    "printf(\"%d\",y*y);\n",
    "}\n",
    "else\n",
    "{\n",
    "printf(\"%d\",x*x);\n",
    "}\n",
    "return 0;\n",
    "}"
   ]
  },
  {
   "cell_type": "markdown",
   "metadata": {},
   "source": [
    "#### READ THE AGE OF PERSON AS I/P AND PRINT O/P AS ELIGIBLE/NOT"
   ]
  },
  {
   "cell_type": "code",
   "execution_count": null,
   "metadata": {},
   "outputs": [],
   "source": [
    "# include<stdio.h>\n",
    "int main()\n",
    "{\n",
    "int x;\n",
    "printf(\"enter tha value\");\n",
    "scanf(\"%d\",&x);\n",
    "if(18<x<85)\n",
    "{\n",
    "printf(\"eligible\");\n",
    "}\n",
    "else\n",
    "{\n",
    "printf(\"not eligible\");\n",
    "}\n",
    "return 0;\n",
    "}"
   ]
  },
  {
   "cell_type": "markdown",
   "metadata": {},
   "source": [
    "#### READ THE CHAR AS I/P AND CHECK WHETHER IT IS UPPER,LOWER OR DIGIT"
   ]
  },
  {
   "cell_type": "code",
   "execution_count": null,
   "metadata": {},
   "outputs": [],
   "source": [
    "{\n",
    "\tchar x;\n",
    "\tprintf(\"enter tha value\");\n",
    "\tscanf(\"%c\",&x);\n",
    "if(x>=65 && x<=90)\n",
    "{\n",
    "printf(\"upper case\");\n",
    "}\n",
    "else if(x>97 && x<=122)\n",
    "{ \n",
    "printf(\"lower case\");\n",
    "}\n",
    "else if(x>=48 && x<=57)\n",
    "{\n",
    "printf(\"digit char\");\n",
    "}\n",
    "return 0;\n",
    "}"
   ]
  },
  {
   "cell_type": "markdown",
   "metadata": {},
   "source": [
    "#### ENTER THE CHARACTER AND PRINT WHETHER IT IS VOWEL/CONSONANT"
   ]
  },
  {
   "cell_type": "code",
   "execution_count": null,
   "metadata": {},
   "outputs": [],
   "source": [
    "include<stdio.h>\n",
    "int main()\n",
    "{\n",
    "char x;\n",
    "printf(\"enter tha value\");\n",
    "scanf(\"%c\",&x);\n",
    "if(x=='a'|| x=='e'|| x=='i' || x=='o' || x=='u')\n",
    "{\n",
    "printf(\"vowel\");\n",
    "}\n",
    "else \n",
    "{\n",
    "printf(\"consonant\");\n",
    "}\n",
    "return 0;\n",
    "}"
   ]
  },
  {
   "cell_type": "markdown",
   "metadata": {},
   "source": [
    "### READ THE NUMBER &CHECK WHEATHER IT IS DIVISIBLE BY 3&5"
   ]
  },
  {
   "cell_type": "code",
   "execution_count": null,
   "metadata": {},
   "outputs": [],
   "source": [
    "#include<stdio.h>\n",
    "int main()\n",
    "{\t\t\n",
    "\tint x;\n",
    "\tprintf(\"enter tha value\");\n",
    "\tscanf(\"%d\",&x);\n",
    "\tif(x%3==0 && x%5==0)\n",
    "{\n",
    "\tprintf(\"divisible\");\n",
    "}\n",
    "else \n",
    "{\n",
    "\tprintf(\"not divisible\");\n",
    "}\t\t\n",
    "\treturn 0;\n",
    "}"
   ]
  },
  {
   "cell_type": "markdown",
   "metadata": {},
   "source": [
    "### READ THE NO AS I/P(WEEK NUMBER) AND PRINT O/P AS DAY NAME"
   ]
  },
  {
   "cell_type": "code",
   "execution_count": null,
   "metadata": {},
   "outputs": [],
   "source": [
    "int main()\n",
    "{\t\t\n",
    "\tint x;\n",
    "\tprintf(\"enter tha value\");\n",
    "\tscanf(\"%d\",&x);\n",
    "\tswitch(x)\n",
    "{\n",
    "\tcase 1:printf(\"sunday\");\n",
    "\tbreak;\n",
    "\tcase 2:printf(\"monday\");\n",
    "\tbreak;\n",
    "\tcase 3:printf(\"tuesday\");\n",
    "\tbreak;\n",
    "\tcase 4:printf(\"wednesday\");\n",
    "break;\n",
    "case 5:printf(\"thursday\");\n",
    "break;\n",
    "case 6:printf(\"friday\");\n",
    "break;\n",
    "case 7:printf(\"saturday\");\n",
    "break;\n",
    "}\n",
    "return 0;\n",
    "}"
   ]
  },
  {
   "cell_type": "markdown",
   "metadata": {},
   "source": [
    "### Read the angles as i/p and check whether triangle can be formed/not"
   ]
  },
  {
   "cell_type": "code",
   "execution_count": null,
   "metadata": {},
   "outputs": [],
   "source": [
    "#include<stdio.h>\n",
    "int main()\n",
    "{\t\t\n",
    "\tint x,y,z,sum;\n",
    "\tscanf(\"%d%d%d\",&x,&y,&z);\n",
    "\tsum=x+y+z;\n",
    "\tif(x!=0&&y!=0&&z!=0)\n",
    "    {\n",
    "    \tif (sum==180)\n",
    "    \t{\n",
    "    \t\tprintf(\"yes\");\n",
    "\t\t}\n",
    "\t\telse\n",
    "\t\t{\n",
    "\t\t\tprintf(\"no\");\n",
    "\t\t}\n",
    "\t\t}\t\t\n",
    "\treturn 0;\n",
    "\n",
    "} "
   ]
  },
  {
   "cell_type": "markdown",
   "metadata": {},
   "source": [
    "## WORKING PROCESS OF WHILE:\n",
    "- while(boolean_condition)\n",
    "- {\n",
    "   - loop statements\n",
    "   - \n",
    "   increment/decrement\n",
    "- }\n",
    "- in while loop first condition will be tested and then "
   ]
  },
  {
   "cell_type": "markdown",
   "metadata": {},
   "source": [
    "### READ THE NO AS I/P AND PRINT THE NATURAL NO FROM 1 TO N"
   ]
  },
  {
   "cell_type": "code",
   "execution_count": null,
   "metadata": {},
   "outputs": [],
   "source": [
    "#include<stdio.h>\n",
    "int main()\n",
    "{\t\t\n",
    "\tint n,i;\n",
    "\tscanf(\"%d\",&n);\n",
    "\ti=1;\n",
    "\twhile(i<=n)\n",
    "\t{\n",
    "\t\tprintf(\"%d\",i);\n",
    "\t\ti++;\n",
    "\t}\t\t\n",
    "\treturn 0;\n",
    "} "
   ]
  },
  {
   "cell_type": "markdown",
   "metadata": {},
   "source": [
    "### READ THE NO AS I/P AND PRINT SUM OF EVEN NUMBERS B/W 1 TO N"
   ]
  },
  {
   "cell_type": "code",
   "execution_count": null,
   "metadata": {},
   "outputs": [],
   "source": [
    "#include<stdio.h>\n",
    "int main()\n",
    "{\t\t\n",
    "\tint n,i=1,sum=0;\n",
    "\tscanf(\"%d\",&n);\n",
    "\twhile(i<=n)\n",
    "\t{\n",
    "\t\tif(i%2==0)\n",
    "\t\t{\n",
    "\t\tsum=sum+i;\n",
    "\t\n",
    "\t\t\n",
    "\t    }\n",
    "\t    i++;\n",
    "    }\n",
    "    printf(\"%d\",sum);\n",
    "\treturn 0;\n",
    "} "
   ]
  },
  {
   "cell_type": "markdown",
   "metadata": {},
   "source": [
    "###  READ THE 2 NO'S AS I/P AND PRINT O/P AS NO'S WHICH IS PERFECTLY DIVISIBLE BY 3,5\n",
    "- TEST CASES: 1-15  0/P=15"
   ]
  },
  {
   "cell_type": "code",
   "execution_count": null,
   "metadata": {},
   "outputs": [],
   "source": [
    "#include<stdio.h>\n",
    "int main()\n",
    "{\t\t\n",
    "\tint x,y;\n",
    "\tscanf(\"%d%d\",&x,&y);\n",
    "\twhile(x<=y)\n",
    "{\n",
    "\tif(x%3==0 && x%5==0)\n",
    "\t{\n",
    "\t\tprintf(\"%d\",x);\n",
    "\t}\n",
    "\tx++;\n",
    "}\n",
    "return 0;\n",
    "}"
   ]
  },
  {
   "cell_type": "markdown",
   "metadata": {},
   "source": [
    "### read the no as i/p and print o/p as digits of no"
   ]
  },
  {
   "cell_type": "code",
   "execution_count": null,
   "metadata": {},
   "outputs": [],
   "source": [
    "#include<stdio.h>\n",
    "int main()\n",
    "{\t\t\n",
    "\tint x,r;\n",
    "\tscanf(\"%d\",&x);\n",
    "\twhile(x!=0)\n",
    "{\n",
    "\tr=x%10;\n",
    "\tprintf(\"%d\",r);\n",
    "\tx=x/10;\n",
    "}\n",
    "return 0;\n",
    "}\n",
    "o/p=123\n",
    "321"
   ]
  },
  {
   "cell_type": "markdown",
   "metadata": {},
   "source": [
    "### read the no as i/p and print the o/p as only sum of even numbers"
   ]
  },
  {
   "cell_type": "code",
   "execution_count": null,
   "metadata": {},
   "outputs": [],
   "source": [
    "#include<stdio.h>\n",
    "int main()\n",
    "{\n",
    "\tint x,sum,r;\n",
    "\tscanf(\"%d\",&x);\n",
    "\tsum=0;\n",
    "\twhile(x!=0)\n",
    "\t{\n",
    "\t\tr=x%10;\n",
    "\t\tif(r%2==0)\n",
    "\t\t{\n",
    "\t\t\tsum=sum+r;\n",
    "\t\t\t\n",
    "\t\t}\n",
    "\t\tx=x/10;\n",
    "\t}\n",
    "\tprintf(\"%d\",sum);\n",
    "\t\n",
    "\t\n",
    "\t\n",
    "\treturn 0;\n",
    "}"
   ]
  },
  {
   "cell_type": "markdown",
   "metadata": {},
   "source": [
    "### READ THE NO AS I/P AND PRINT THE CHARACTERS"
   ]
  },
  {
   "cell_type": "code",
   "execution_count": null,
   "metadata": {},
   "outputs": [],
   "source": [
    "#include<stdio.h>\n",
    "int main()\n",
    "{\n",
    "\tint x,r;\n",
    "\tscanf(\"%d\",&x);\n",
    "\twhile(x!=0)\n",
    "\t{\n",
    "\t\tr=x%10;\n",
    "\t\tswitch(r)\n",
    "\t\t{\n",
    "\t\t\n",
    "\t\tcase 0: printf(\"zero\");\n",
    "\t\tbreak;\n",
    "\t\tcase 1: printf(\"one\");\n",
    "\t\tbreak;\n",
    "\t\tcase 2: printf(\"two\");\n",
    "\t\tbreak;\n",
    "\t\tcase 3: printf(\"three\");\n",
    "\t\tbreak;\n",
    "\t\tcase 4: printf(\"four\");\n",
    "\t\tbreak;\n",
    "\t\tcase 5: printf(\"five\");\n",
    "\t\tbreak;\n",
    "\t\tcase 6: printf(\"six\");\n",
    "\t\tbreak;\n",
    "\t\tcase 7: printf(\"seven\");\n",
    "\t\tbreak;\n",
    "\t\tcase 8: printf(\"eight\");\n",
    "\t\tbreak;\n",
    "\t\tcase 9: printf(\"nine\");\n",
    "\t\tbreak;\n",
    "\t}\n",
    "        x=x/10;\n",
    "\t}\t\n",
    "\n",
    "return 0;\n",
    "}\n",
    "O/P=123\n",
    "THREE TWO ONE"
   ]
  },
  {
   "cell_type": "markdown",
   "metadata": {},
   "source": [
    "### READ THE NO AS I/P AND PRINT THE O/P AS SMALL,LARGE"
   ]
  },
  {
   "cell_type": "code",
   "execution_count": null,
   "metadata": {},
   "outputs": [],
   "source": [
    "#include<stdio.h>\n",
    "int main()\n",
    "{\n",
    "\tint small=9,large=0,n,r;\n",
    "\tscanf(\"%d\",&n);\n",
    "\twhile(n!=0)\n",
    "\t{\n",
    "\t\tr=n%10;\n",
    "\t\tif(small>=r)\n",
    "\t\t{\n",
    "\t\t\tsmall=r;\n",
    "\t\t}\n",
    "\t\tif(large<=r)\n",
    "\t\t{\n",
    "\t\t\tlarge=r;\n",
    "\t\t}\n",
    "\t\tn=n/10;\n",
    "\t\t\n",
    "\t}\n",
    "\tprintf(\"smallest=%d\"\"largest=%d\",small,large);\n",
    "\t\n",
    "\t\n",
    "\t\n",
    "\t\n",
    "\treturn 0;\n",
    "}"
   ]
  },
  {
   "cell_type": "code",
   "execution_count": null,
   "metadata": {},
   "outputs": [],
   "source": []
  },
  {
   "cell_type": "code",
   "execution_count": null,
   "metadata": {},
   "outputs": [],
   "source": [
    "#include<stdio.h>\n",
    "int main()\n",
    "{\n",
    "\tint x,sum=0,r;\n",
    "\tscanf(\"%d\",&x);\n",
    "\twhile(x!=0)\n",
    "\t{                                    ******\n",
    "\t\tr=x%10;\n",
    "\t\tif(r==0 || r==6 || r==9)\n",
    "\t\t{\n",
    "\t\t\tsum=sum+1;\n",
    "\t\t}\n",
    "\t\telse if(r==4 ||r==8)\n",
    "\t\t{\n",
    "\t\t\tsum=sum+2;\n",
    "\t\t}\n",
    "\t\tx=x/10;\n",
    "\t}\n",
    "\tprintf(\"%d\",sum);\n",
    "return 0;\n",
    "}"
   ]
  },
  {
   "cell_type": "code",
   "execution_count": null,
   "metadata": {},
   "outputs": [],
   "source": [
    "include<stdio.h>\n",
    "int main()\n",
    "{\n",
    "\tint x,r,buffer,rev=0;\n",
    "\tscanf(\"%d\",&x);\n",
    "\tbuffer=x;\n",
    "\twhile(x!=0)\n",
    "\t{\n",
    "\t\tr=x%10;\n",
    "\t\tx=x/10;\n",
    "\t\trev=rev*10+r;\n",
    "\t\t\n",
    "\t\t\n",
    "\t}\n",
    "\tif(rev==buffer)\n",
    "\t{\n",
    "\t\tprintf(\"palindrome\");\n",
    "\t}\n",
    "\telse\n",
    "\t{\n",
    "\t\tprintf(\"not a palindrone\");\n",
    "\t}\n",
    "\treturn 0;\n",
    "}"
   ]
  }
 ],
 "metadata": {
  "kernelspec": {
   "display_name": "Python 3",
   "language": "python",
   "name": "python3"
  },
  "language_info": {
   "codemirror_mode": {
    "name": "ipython",
    "version": 3
   },
   "file_extension": ".py",
   "mimetype": "text/x-python",
   "name": "python",
   "nbconvert_exporter": "python",
   "pygments_lexer": "ipython3",
   "version": "3.7.3"
  }
 },
 "nbformat": 4,
 "nbformat_minor": 2
}
